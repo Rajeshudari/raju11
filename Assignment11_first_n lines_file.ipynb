In [8]:
a_file = open("test.txt")
number_of_lines = 3
for i in range(number_of_lines):
    line = a_file.readline()
    print(line)
good morning to all

stay home stay safe

be good and do good
