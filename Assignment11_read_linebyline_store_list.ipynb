In [3]:
def file_read(fname):
        with open(fname) as f:     
                content_list = f.readlines()
                print(content_list)

file_read('test.txt')
['good morning to all\n', 'stay home stay safe\n', 'be good and do good']
