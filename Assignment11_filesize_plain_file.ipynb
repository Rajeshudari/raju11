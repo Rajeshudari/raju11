In [2]:
def file_size(fname):
        import os
        statinfo = os.stat(fname)
        return statinfo.st_size
print("File size in bytes of a plain file: ",file_size("test.txt"))
File size in bytes of a plain file:  19
